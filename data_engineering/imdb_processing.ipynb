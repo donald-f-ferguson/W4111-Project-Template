{
 "cells": [
  {
   "metadata": {},
   "cell_type": "markdown",
   "source": "# IMDB Dataset Processing",
   "id": "63bb0956756e36a1"
  },
  {
   "metadata": {},
   "cell_type": "markdown",
   "source": "## Overview",
   "id": "d75607556b592615"
  },
  {
   "metadata": {},
   "cell_type": "markdown",
   "source": "This notebook performs data engineering tasks for the IMDB dataset. This data engineering is part of the [larger example project]() for [Prof. Donald Ferguson's](https://github.com/donald-f-ferguson) sections of _W4111 - Introduction to Databases_ at [Columbia University.](https://www.cs.columbia.edu) Students in this class",
   "id": "90295aec4fe4e6a3"
  }
 ],
 "metadata": {
  "kernelspec": {
   "display_name": "Python 3",
   "language": "python",
   "name": "python3"
  },
  "language_info": {
   "codemirror_mode": {
    "name": "ipython",
    "version": 2
   },
   "file_extension": ".py",
   "mimetype": "text/x-python",
   "name": "python",
   "nbconvert_exporter": "python",
   "pygments_lexer": "ipython2",
   "version": "2.7.6"
  }
 },
 "nbformat": 4,
 "nbformat_minor": 5
}
